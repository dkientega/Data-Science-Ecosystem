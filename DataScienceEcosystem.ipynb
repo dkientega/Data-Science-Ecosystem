{
  "nbformat": 4,
  "nbformat_minor": 0,
  "metadata": {
    "colab": {
      "provenance": []
    },
    "kernelspec": {
      "name": "python3",
      "display_name": "Python 3"
    },
    "language_info": {
      "name": "python"
    }
  },
  "cells": [
    {
      "cell_type": "markdown",
      "source": [
        "**Exercie 2**\n",
        "Create a markdown cell with the title\n",
        "Data Science Tools and Ecosystem\n",
        "using H1 style heading."
      ],
      "metadata": {
        "id": "6b-k2NWED8xb"
      }
    },
    {
      "cell_type": "markdown",
      "source": [
        "# Data Science Tools\n",
        "# Ecosystem using"
      ],
      "metadata": {
        "id": "ZFaCgHdYFuBb"
      }
    },
    {
      "cell_type": "markdown",
      "source": [
        "**Exercise 3** - Create a markdown cell for an introduction & **Exercise 10** - Insert a markdown cell to list Objectives"
      ],
      "metadata": {
        "id": "DwXw9RgLHfdZ"
      }
    },
    {
      "cell_type": "markdown",
      "source": [
        "In this notebook, Data Science Tools and Ecosystem are summarized."
      ],
      "metadata": {
        "id": "SnOVBRj4JbBD"
      }
    },
    {
      "cell_type": "markdown",
      "source": [
        "**Objectives**:\n",
        "*   List popular languages for Data Science\n",
        "*   List Some of the commonly used libraries used by Data Scientists\n",
        "*   List some Data Science tools\n",
        "\n"
      ],
      "metadata": {
        "id": "QTZy0VgtaIPa"
      }
    },
    {
      "cell_type": "markdown",
      "source": [
        "**Exercise 4** - Create a markdown cell to list data science languages"
      ],
      "metadata": {
        "id": "aPlR8DKtKRCb"
      }
    },
    {
      "cell_type": "markdown",
      "source": [
        "Some of the popular languages that Data Scientists use are:\n",
        "\n",
        "\n",
        "1.   Python,\n",
        "2.   R,\n",
        "3.   SQL."
      ],
      "metadata": {
        "id": "mgMNbiL6KWwW"
      }
    },
    {
      "cell_type": "markdown",
      "source": [
        "**Exercise 5** - Create a markdown cell to list data science libraries"
      ],
      "metadata": {
        "id": "RjfpU9aHL2Bq"
      }
    },
    {
      "cell_type": "markdown",
      "source": [
        "Some of the commonly used libraries used by Data Scientists include:\n",
        "1. Pandas,\n",
        "2. NumPy,\n",
        "3. Matplotlib,\n",
        "4. Seaborn."
      ],
      "metadata": {
        "id": "ix_7zYFBMDOS"
      }
    },
    {
      "cell_type": "markdown",
      "source": [
        "**Exercise 6** - Create a markdown cell with a table of Data Science tools"
      ],
      "metadata": {
        "id": "g1S_vI2gQNn7"
      }
    },
    {
      "cell_type": "markdown",
      "source": [
        "| Data Science Tools |\n",
        "| -------------|\n",
        "| Jupyter IDE |\n",
        "| RStudio |\n",
        "| Microsoft Visual Studio |\n",
        "\n",
        "\n"
      ],
      "metadata": {
        "id": "jp696L_TQFsk"
      }
    },
    {
      "cell_type": "markdown",
      "source": [
        "**Exercise 7** - Create a markdown cell introducing arithmetic expression examples"
      ],
      "metadata": {
        "id": "4StbaQteTvAr"
      }
    },
    {
      "cell_type": "markdown",
      "source": [
        "### Below are a few examples of evaluating arithmetic expressions in Python"
      ],
      "metadata": {
        "id": "J0yAFH9LT4gV"
      }
    },
    {
      "cell_type": "markdown",
      "source": [
        "**Exercise 8** - Create a code cell to multiply and add numbers"
      ],
      "metadata": {
        "id": "fsOKumIzUtVm"
      }
    },
    {
      "cell_type": "code",
      "source": [
        "# This a simple arithmetic expression to mutiply then add integers\n",
        "(3*4)+5"
      ],
      "metadata": {
        "colab": {
          "base_uri": "https://localhost:8080/"
        },
        "id": "9tPpohSNUr-h",
        "outputId": "d5961f2e-72b0-433f-e179-265fc133d948"
      },
      "execution_count": 2,
      "outputs": [
        {
          "output_type": "execute_result",
          "data": {
            "text/plain": [
              "17"
            ]
          },
          "metadata": {},
          "execution_count": 2
        }
      ]
    },
    {
      "cell_type": "markdown",
      "source": [
        "**Exercise 9** - Create a code cell to convert minutes to hours"
      ],
      "metadata": {
        "id": "Ii5BA7TpXREa"
      }
    },
    {
      "cell_type": "code",
      "source": [
        "# This will convert 200 minutes to hours by diving by 60\n",
        "200 / 60\n",
        "\n",
        "# 200 minutes = 3.33 hours"
      ],
      "metadata": {
        "colab": {
          "base_uri": "https://localhost:8080/"
        },
        "id": "8P4S_UKCYEJz",
        "outputId": "3f2b3cc5-1a86-4c4d-de99-dff4bf744d1d"
      },
      "execution_count": 4,
      "outputs": [
        {
          "output_type": "execute_result",
          "data": {
            "text/plain": [
              "3.3333333333333335"
            ]
          },
          "metadata": {},
          "execution_count": 4
        }
      ]
    },
    {
      "cell_type": "markdown",
      "source": [
        "**Exercise 11**- Create a markdown cell to indicate the Author's name"
      ],
      "metadata": {
        "id": "DGa_y9NnZkup"
      }
    },
    {
      "cell_type": "markdown",
      "source": [
        "## Author\n",
        "KIENTEGA Filwendé Dan"
      ],
      "metadata": {
        "id": "ZJn1adHzc5m4"
      }
    }
  ]
}